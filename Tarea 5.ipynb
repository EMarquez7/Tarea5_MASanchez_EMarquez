{
 "cells": [
  {
   "cell_type": "markdown",
   "metadata": {},
   "source": [
    "<img style=\"float: left; margin: 30px 15px 15px 15px;\" src=\"https://pngimage.net/wp-content/uploads/2018/06/logo-iteso-png-5.png\" width=\"300\" height=\"500\" /> \n",
    "    \n",
    "    \n",
    "### <font color='navy'> Simulación de procesos financieros. \n",
    "\n",
    "**Nombres:** Marco Antonio Sánchez Covarrubias.\n",
    "\n",
    "**Fecha:** 07 de octubre del 2021.\n",
    "\n",
    "**Expediente** : if720268.\n",
    "**Profesor:** Oscar David Jaramillo Zuluaga.\n",
    "    \n",
    "**Link Github**: https://github.com/MarcoSC08/Tarea5_MASanchez_EMarquez\n",
    "\n",
    "# Tarea 5: Clase 9"
   ]
  },
  {
   "cell_type": "markdown",
   "metadata": {},
   "source": [
    "## Enunciado de tarea (Transcibirlo)\n",
    "> Para las siguiente dos funciones, genere muestres aleatorias que distribuyan según la función dada usando el método de la transformada inversa y grafique el histograma de 1000 muestras generadas con el método de la transformada inversa y compárela con el función $f(x)$ **(recuerde que $f(x)$ es la distribución de probabilidad y $F(x)$ es la distribución de probabilidad acumulada)** [ver este enlace para más información](https://es.wikipedia.org/wiki/Funci%C3%B3n_de_distribuci%C3%B3n). Este procedimiento se realiza con el fín de validar que el procedimiento y los resultados son correctos."
   ]
  },
  {
   "cell_type": "markdown",
   "metadata": {},
   "source": [
    "### Ejercicio 1: \n",
    "> 1. Generación variable aleatoria continua\n",
    ">El tiempo en el cual un movimiento browniano se mantiene sobre su punto máximo en el intervalo [0,1] tiene una distribución\n",
    ">$$F(x)=\\frac{2}{\\pi}\\sin^{-1}(\\sqrt x),\\quad 0\\leq x\\leq 1$$ </font>"
   ]
  },
  {
   "cell_type": "markdown",
   "metadata": {},
   "source": [
    "Código de solución estudiante 1"
   ]
  },
  {
   "cell_type": "markdown",
   "metadata": {},
   "source": [
    "Transformada inversa\n",
    "\n",
    "Se resuelve$$u=\\frac{2}{\\pi}\\sin^{-1}(\\sqrt x)$$\n",
    "\n",
    "$$arcsin(\\sqrt x)=\\frac{u\\pi}{2}$$\n",
    "\n",
    "$arcsin(a)=b$ -> $a=sin(b)$ $$\\sqrt x=\\sin(\\frac{u\\pi}{2})$$\n",
    "\n",
    "Resolver para $x$ $$\\sqrt x=\\sin(\\frac{u\\pi}{2})$$\n",
    "\n",
    "$$\\sin^2(\\frac{u\\pi}{2})$$\n",
    "\n",
    "Sustituir $u=x$ $$\\sin^2(\\frac{x\\pi}{2})$$"
   ]
  },
  {
   "cell_type": "code",
   "execution_count": 1,
   "metadata": {},
   "outputs": [],
   "source": [
    "import scipy.special as sps \n",
    "from math import factorial as fac\n",
    "import numpy as np\n",
    "import matplotlib.pyplot as plt"
   ]
  },
  {
   "cell_type": "code",
   "execution_count": 2,
   "metadata": {},
   "outputs": [],
   "source": [
    "# Código de solución estudiante 1\n",
    "N=100\n",
    "def funcion(N):\n",
    "    y = (np.sin((np.random.random(N)*np.pi)/2))**2\n",
    "    return y\n"
   ]
  },
  {
   "cell_type": "code",
   "execution_count": 3,
   "metadata": {},
   "outputs": [
    {
     "name": "stderr",
     "output_type": "stream",
     "text": [
      "<ipython-input-3-e77cbdcd27de>:2: RuntimeWarning: invalid value encountered in sqrt\n",
      "  y2 = 1/(np.pi*(np.sqrt(1-x)*np.sqrt(x)))\n",
      "<ipython-input-3-e77cbdcd27de>:2: RuntimeWarning: divide by zero encountered in true_divide\n",
      "  y2 = 1/(np.pi*(np.sqrt(1-x)*np.sqrt(x)))\n"
     ]
    },
    {
     "data": {
      "image/png": "[encoded data removed]",
      "text/plain": [
       "<Figure size 432x288 with 1 Axes>"
      ]
     },
     "metadata": {
      "needs_background": "light"
     },
     "output_type": "display_data"
    }
   ],
   "source": [
    "x = np.arange(0,60,0.01)\n",
    "y2 = 1/(np.pi*(np.sqrt(1-x)*np.sqrt(x)))\n",
    "\n",
    "plt.plot(x,y2,'r--')\n",
    "\n",
    "N = 100\n",
    "r1 = funcion(N)\n",
    "plt.hist(r1,bins=50,density=True)\n",
    "plt.show()"
   ]
  },
  {
   "cell_type": "markdown",
   "metadata": {},
   "source": [
    "Código de solución estudiante 2"
   ]
  },
  {
   "cell_type": "code",
   "execution_count": null,
   "metadata": {},
   "outputs": [],
   "source": [
    "# Código de solución estudiante 2\n",
    ".\n",
    ".\n",
    ".\n",
    ".\n"
   ]
  },
  {
   "cell_type": "markdown",
   "metadata": {},
   "source": [
    "### Respuesta planteada en el ejercicio usando (markdown)\n",
    " La función y la derivada de la función, en este caso la línea roja, siguen la misma curvatura."
   ]
  },
  {
   "cell_type": "markdown",
   "metadata": {},
   "source": [
    "### Ejercicio 2: \n",
    "> 2. Generación variable aleatoria Discreta\n",
    "> La distribución binomial modela el número de éxitos de n ensayos independientes donde hay una probabilidad p de éxito en cada ensayo.\n",
    "> Generar una variable aletoria binomial con parámetros $n=10$ y $p=0.7$. Recordar que $$X\\sim binomial(n,p) \\longrightarrow p_i=P(X=i)=\\frac{n!}{i!(n-i)!}p^i(1-p)^{n-i},\\quad i=0,1,\\cdots,n$$\n",
    "> Por propiedades de la operación factorial la anterior $p_i$ se puede escribir como:\n",
    "> $$p_{i+1}=\\frac{n-i}{i+1}\\frac{p}{1-p} p_i $$"
   ]
  },
  {
   "cell_type": "markdown",
   "metadata": {},
   "source": [
    "Código de solución estudiante 1"
   ]
  },
  {
   "cell_type": "code",
   "execution_count": 4,
   "metadata": {},
   "outputs": [],
   "source": [
    "# Código de solución estudiante 1\n",
    "def Gen_distr_discreta(U:'vector de números aleatorios',\n",
    "                       p_acum: 'P.Acumulada de la distribución a generar'):\n",
    "    '''Tener en cuenta que este arreglo cuenta números empezando del 0'''\n",
    "    v = np.array(list(map(lambda j:sum(1 for i in p_acum if i<U[j]),range(N))))\n",
    "    return v\n",
    "\n"
   ]
  },
  {
   "cell_type": "code",
   "execution_count": 5,
   "metadata": {},
   "outputs": [],
   "source": [
    "def plot_histogram_discrete(distribucion:'distribución a graficar histograma',\n",
    "                            label:'label del legend'):\n",
    "    plt.figure(figsize=[8,4])\n",
    "    y,x = np.histogram(distribucion,bins = len(set(distribucion))) #cuenta la cantidad de elementos distintos de la variable 'distribucion'\n",
    "    plt.bar(list(set(distribucion)),y,label=label)\n",
    "    plt.legend()\n",
    "    plt.show()"
   ]
  },
  {
   "cell_type": "code",
   "execution_count": 6,
   "metadata": {},
   "outputs": [],
   "source": [
    "# Función que calcula la probabilidad acumulada\n",
    "\n",
    "def P_acum_Binomial(n,p):\n",
    "    c  = p/(1-p)\n",
    "    pr = [(1-p)**n]\n",
    "    add = pr.append\n",
    "    for i in range(n+1):\n",
    "        add((c*(n-i)/(i+1))*pr[-1])\n",
    "    return np.cumsum(pr)"
   ]
  },
  {
   "cell_type": "code",
   "execution_count": 7,
   "metadata": {},
   "outputs": [],
   "source": [
    "# Función que calcula la probabilidad acumulada optimizada\n",
    "def P_acum_Binomial_o(n,p):\n",
    "    Pr = np.zeros(n)\n",
    "    Pr[0] = (1-p)**n\n",
    "    def pr(i):\n",
    "        nonlocal Pr\n",
    "        c  = p/(1-p)\n",
    "        Pr[i+1]=(c*(n-i)/(i+1))*Pr[i]\n",
    "            \n",
    "    [pr(i) for i in range(n-1)] # Lleno el vector Pr usando compresión de listas\n",
    "    return np.cumsum(Pr)"
   ]
  },
  {
   "cell_type": "code",
   "execution_count": 9,
   "metadata": {
    "scrolled": true
   },
   "outputs": [
    {
     "data": {
      "image/png": "[encoded data removed]",
      "text/plain": [
       "<Figure size 576x288 with 1 Axes>"
      ]
     },
     "metadata": {
      "needs_background": "light"
     },
     "output_type": "display_data"
    },
    {
     "data": {
      "image/png": "[encoded data removed]",
      "text/plain": [
       "<Figure size 576x288 with 1 Axes>"
      ]
     },
     "metadata": {
      "needs_background": "light"
     },
     "output_type": "display_data"
    }
   ],
   "source": [
    "# def D_binomial_intermedia(n,p,N):\n",
    "n = 10; p = 0.7; N = 10**4\n",
    "\n",
    "p_acum = P_acum_Binomial_o(n,p)\n",
    "u = np.random.rand(N)\n",
    "\n",
    "# Usando el método de la transformada inversa\n",
    "d_binomial = Gen_distr_discreta(u,p_acum)\n",
    "plot_histogram_discrete(d_binomial,'usando función creada')\n",
    "\n",
    "# Usando numpy\n",
    "d_bino_numpy = np.random.binomial(n,p,N)\n",
    "plot_histogram_discrete(d_bino_numpy,'usando numpy')"
   ]
  },
  {
   "cell_type": "markdown",
   "metadata": {},
   "source": [
    "Código de solución estudiante 2"
   ]
  },
  {
   "cell_type": "code",
   "execution_count": null,
   "metadata": {},
   "outputs": [],
   "source": [
    "# Código de solución estudiante 2\n",
    ".\n",
    ".\n",
    ".\n",
    ".\n",
    "\n"
   ]
  },
  {
   "cell_type": "markdown",
   "metadata": {},
   "source": [
    "### Respuesta planteada en el ejercicio usando (markdown)\n",
    " La respuesta es ........."
   ]
  },
  {
   "cell_type": "code",
   "execution_count": null,
   "metadata": {},
   "outputs": [],
   "source": []
  }
 ],
 "metadata": {
  "kernelspec": {
   "display_name": "Python 3",
   "language": "python",
   "name": "python3"
  },
  "language_info": {
   "codemirror_mode": {
    "name": "ipython",
    "version": 3
   },
   "file_extension": ".py",
   "mimetype": "text/x-python",
   "name": "python",
   "nbconvert_exporter": "python",
   "pygments_lexer": "ipython3",
   "version": "3.8.8"
  }
 },
 "nbformat": 4,
 "nbformat_minor": 2
}
